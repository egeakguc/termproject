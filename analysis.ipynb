{
 "cells": [
  {
   "cell_type": "code",
   "execution_count": 362,
   "id": "57dbfade-1283-40c8-b460-41111ee255cc",
   "metadata": {},
   "outputs": [],
   "source": [
    "import pandas as pd\n",
    "import numpy as np\n",
    "import matplotlib.pyplot as plt\n",
    "import seaborn as sns\n",
    "\n"
   ]
  },
  {
   "cell_type": "code",
   "execution_count": 350,
   "id": "a7df226d-95ed-40e2-8433-d9225a304060",
   "metadata": {},
   "outputs": [
    {
     "name": "stdout",
     "output_type": "stream",
     "text": [
      "        Date Country/Region Name  Downloads  Store Revenue  Active Users  \\\n",
      "0 2023-11-05              Brazil       4406           1974         24963   \n",
      "1 2023-11-05               India       3323             62         24829   \n",
      "2 2023-11-05               Egypt       1873             55         10182   \n",
      "3 2023-11-05            Thailand       1386            309          7133   \n",
      "4 2023-11-05              Turkey       1234            505         20736   \n",
      "\n",
      "   Avg Time / User  \n",
      "0            10016  \n",
      "1             6731  \n",
      "2            14708  \n",
      "3             2674  \n",
      "4             7853  \n"
     ]
    }
   ],
   "source": [
    "file_path = '/Users/egeakguc/Desktop/dt/Tasarım2'\n",
    "data = pd.read_csv('data.csv')\n",
    "\n",
    "\n",
    "\n",
    "# Converting 'Date' to datetime format and inspect the data\n",
    "data['Date'] = pd.to_datetime(data['Date'], dayfirst=True)\n",
    "print(data.head())\n",
    "\n",
    "\n"
   ]
  },
  {
   "cell_type": "code",
   "execution_count": 351,
   "id": "e722223f-ddb2-4a99-aa91-eace51d9acda",
   "metadata": {},
   "outputs": [
    {
     "name": "stdout",
     "output_type": "stream",
     "text": [
      "Historical LTV by Country:\n",
      "Country/Region Name\n",
      "Brazil            0.035773\n",
      "Canada            5.194480\n",
      "Colombia          0.018843\n",
      "Egypt             0.007212\n",
      "France            0.603740\n",
      "Germany           0.287059\n",
      "India             0.003009\n",
      "Indonesia         0.012877\n",
      "Malaysia          0.088254\n",
      "Mexico            0.096864\n",
      "Portugal          0.187690\n",
      "Spain             0.334943\n",
      "Thailand          0.028811\n",
      "Turkey            0.019247\n",
      "United Kingdom    7.901214\n",
      "United States     1.217583\n",
      "Vietnam           0.020763\n",
      "dtype: float64\n"
     ]
    }
   ],
   "source": [
    "ltv_by_country = data.groupby('Country/Region Name').apply(lambda x: x['Store Revenue'].sum() / x['Active Users'].sum())\n",
    "print(\"Historical LTV by Country:\")\n",
    "print(ltv_by_country)\n"
   ]
  },
  {
   "cell_type": "code",
   "execution_count": 352,
   "id": "fdc1e44b-64dc-4552-aa0d-1d0d05c1bfad",
   "metadata": {},
   "outputs": [],
   "source": [
    "from sklearn.linear_model import LinearRegression\n",
    "from sklearn.metrics import mean_squared_error, r2_score\n",
    "from sklearn.model_selection import train_test_split\n",
    "\n",
    "def perform_regression(country_data):\n",
    "    X = country_data[['Avg Time / User']]\n",
    "    y = country_data['Store Revenue']\n",
    "\n",
    "    # Splitting the data into training and testing sets\n",
    "    X_train, X_test, y_train, y_test = train_test_split(X, y, test_size=0.2, random_state=42)\n",
    "\n",
    "    # Creating and training the Linear Regression model\n",
    "    model = LinearRegression()\n",
    "    model.fit(X_train, y_train)\n",
    "\n",
    "    # Making predictions and evaluating the model\n",
    "    predictions = model.predict(X_test)\n",
    "    mse = mean_squared_error(y_test, predictions)\n",
    "    r2 = r2_score(y_test, predictions)\n",
    "\n",
    "    # Returning the results\n",
    "    return model.coef_, model.intercept_, mse, r2\n"
   ]
  },
  {
   "cell_type": "code",
   "execution_count": 353,
   "id": "e6c04434-783c-4323-8522-c04c480d26b2",
   "metadata": {},
   "outputs": [
    {
     "name": "stdout",
     "output_type": "stream",
     "text": [
      "Brazil:\n",
      "Coefficients: [-0.02145028]\n",
      "Intercept: 2047.888381751609\n",
      "Mean Squared Error (MSE): 14013.996377657639\n",
      "R-squared: -0.16723385142773695\n",
      "\n",
      "\n",
      "India:\n",
      "Coefficients: [0.00603311]\n",
      "Intercept: 59.94659813347546\n",
      "Mean Squared Error (MSE): 1607.0823674513756\n",
      "R-squared: -0.24118193346569017\n",
      "\n",
      "\n",
      "Egypt:\n",
      "Coefficients: [-0.00176748]\n",
      "Intercept: 77.44551540259778\n",
      "Mean Squared Error (MSE): 332.2367240040159\n",
      "R-squared: -0.9226662268750923\n",
      "\n",
      "\n",
      "Thailand:\n",
      "Coefficients: [-0.00580226]\n",
      "Intercept: 251.99543616554712\n",
      "Mean Squared Error (MSE): 1926.218906670066\n",
      "R-squared: -0.11486485777542366\n",
      "\n",
      "\n",
      "Turkey:\n",
      "Coefficients: [-0.00404185]\n",
      "Intercept: 459.7300185803594\n",
      "Mean Squared Error (MSE): 6850.257062278532\n",
      "R-squared: -0.07474568898474576\n",
      "\n",
      "\n",
      "Indonesia:\n",
      "Coefficients: [-0.0101067]\n",
      "Intercept: 396.384281417422\n",
      "Mean Squared Error (MSE): 17054.10442144164\n",
      "R-squared: -1.2774759649154985\n",
      "\n",
      "\n",
      "Malaysia:\n",
      "Coefficients: [-0.01680497]\n",
      "Intercept: 744.3652892020575\n",
      "Mean Squared Error (MSE): 45151.14061875222\n",
      "R-squared: -5.501656061543455\n",
      "\n",
      "\n",
      "Vietnam:\n",
      "Coefficients: [0.00089098]\n",
      "Intercept: 154.09169269277\n",
      "Mean Squared Error (MSE): 675.5154431274178\n",
      "R-squared: -2.1888002413492154\n",
      "\n",
      "\n",
      "United States:\n",
      "Coefficients: [0.10478053]\n",
      "Intercept: 34657.12762610557\n",
      "Mean Squared Error (MSE): 4863586.971381435\n",
      "R-squared: -0.12529084468297746\n",
      "\n",
      "\n",
      "Mexico:\n",
      "Coefficients: [-0.00118973]\n",
      "Intercept: 405.1075960881278\n",
      "Mean Squared Error (MSE): 3504.8185209557246\n",
      "R-squared: -0.29184181617511173\n",
      "\n",
      "\n",
      "United Kingdom:\n",
      "Coefficients: [0.02682443]\n",
      "Intercept: 4599.104690473862\n",
      "Mean Squared Error (MSE): 306867.15072121174\n",
      "R-squared: -0.9450058433825184\n",
      "\n",
      "\n",
      "Colombia:\n",
      "Coefficients: [0.00043606]\n",
      "Intercept: 39.44743464503438\n",
      "Mean Squared Error (MSE): 12.704077705640849\n",
      "R-squared: -2.6930458446630374\n",
      "\n",
      "\n",
      "Portugal:\n",
      "Coefficients: [-0.00158052]\n",
      "Intercept: 274.8501977230882\n",
      "Mean Squared Error (MSE): 6497.379331064578\n",
      "R-squared: 0.02198569851393606\n",
      "\n",
      "\n",
      "France:\n",
      "Coefficients: [-0.01599322]\n",
      "Intercept: 1277.3915537087796\n",
      "Mean Squared Error (MSE): 19360.554231912167\n",
      "R-squared: -0.35466550179349277\n",
      "\n",
      "\n",
      "Canada:\n",
      "Coefficients: [0.04912588]\n",
      "Intercept: 1230.2070728052995\n",
      "Mean Squared Error (MSE): 13240.446716086333\n",
      "R-squared: -0.16313229709879717\n",
      "\n",
      "\n",
      "Germany:\n",
      "Coefficients: [-0.01316659]\n",
      "Intercept: 3407.6471955365137\n",
      "Mean Squared Error (MSE): 113194.27857391066\n",
      "R-squared: -0.01036586531241035\n",
      "\n",
      "\n",
      "Spain:\n",
      "Coefficients: [0.00619892]\n",
      "Intercept: 255.51036150055913\n",
      "Mean Squared Error (MSE): 2151.8249662692356\n",
      "R-squared: -0.08227626758803552\n",
      "\n",
      "\n"
     ]
    }
   ],
   "source": [
    "for country in data['Country/Region Name'].unique():\n",
    "    print(f\"{country}:\")\n",
    "    country_data = data[data['Country/Region Name'] == country]\n",
    "    \n",
    "    # Perform regression\n",
    "    coefficients, intercept, mse, r2 = perform_regression(country_data)\n",
    "\n",
    "    # Print the results\n",
    "    print(\"Coefficients:\", coefficients)\n",
    "    print(\"Intercept:\", intercept)\n",
    "    print(\"Mean Squared Error (MSE):\", mse)\n",
    "    print(\"R-squared:\", r2)\n",
    "    print(\"\\n\")\n"
   ]
  },
  {
   "cell_type": "markdown",
   "id": "b75608b0-33eb-4dcf-b066-79a9cfd4cf17",
   "metadata": {},
   "source": [
    "Due to the nature of the data, multiple linear regression does not seem to work adequately, \n",
    "so we apply different methods that deal with outliers and non-linearity better."
   ]
  },
  {
   "cell_type": "code",
   "execution_count": 354,
   "id": "703f584f-d228-4ce1-bfd0-a4aff34e83de",
   "metadata": {},
   "outputs": [],
   "source": [
    "features = ['Downloads', 'Active Users', 'Avg Time / User'] \n",
    "X = data[features]\n",
    "y = data['Store Revenue']\n",
    "\n",
    "# Splitting the data into training and testing sets\n",
    "X_train, X_test, y_train, y_test = train_test_split(X, y, test_size=0.2, random_state=42)"
   ]
  },
  {
   "cell_type": "code",
   "execution_count": 363,
   "id": "9c6918dd-8b0c-4999-abea-977543494bd3",
   "metadata": {},
   "outputs": [
    {
     "data": {
      "text/html": [
       "<style>#sk-container-id-7 {color: black;}#sk-container-id-7 pre{padding: 0;}#sk-container-id-7 div.sk-toggleable {background-color: white;}#sk-container-id-7 label.sk-toggleable__label {cursor: pointer;display: block;width: 100%;margin-bottom: 0;padding: 0.3em;box-sizing: border-box;text-align: center;}#sk-container-id-7 label.sk-toggleable__label-arrow:before {content: \"▸\";float: left;margin-right: 0.25em;color: #696969;}#sk-container-id-7 label.sk-toggleable__label-arrow:hover:before {color: black;}#sk-container-id-7 div.sk-estimator:hover label.sk-toggleable__label-arrow:before {color: black;}#sk-container-id-7 div.sk-toggleable__content {max-height: 0;max-width: 0;overflow: hidden;text-align: left;background-color: #f0f8ff;}#sk-container-id-7 div.sk-toggleable__content pre {margin: 0.2em;color: black;border-radius: 0.25em;background-color: #f0f8ff;}#sk-container-id-7 input.sk-toggleable__control:checked~div.sk-toggleable__content {max-height: 200px;max-width: 100%;overflow: auto;}#sk-container-id-7 input.sk-toggleable__control:checked~label.sk-toggleable__label-arrow:before {content: \"▾\";}#sk-container-id-7 div.sk-estimator input.sk-toggleable__control:checked~label.sk-toggleable__label {background-color: #d4ebff;}#sk-container-id-7 div.sk-label input.sk-toggleable__control:checked~label.sk-toggleable__label {background-color: #d4ebff;}#sk-container-id-7 input.sk-hidden--visually {border: 0;clip: rect(1px 1px 1px 1px);clip: rect(1px, 1px, 1px, 1px);height: 1px;margin: -1px;overflow: hidden;padding: 0;position: absolute;width: 1px;}#sk-container-id-7 div.sk-estimator {font-family: monospace;background-color: #f0f8ff;border: 1px dotted black;border-radius: 0.25em;box-sizing: border-box;margin-bottom: 0.5em;}#sk-container-id-7 div.sk-estimator:hover {background-color: #d4ebff;}#sk-container-id-7 div.sk-parallel-item::after {content: \"\";width: 100%;border-bottom: 1px solid gray;flex-grow: 1;}#sk-container-id-7 div.sk-label:hover label.sk-toggleable__label {background-color: #d4ebff;}#sk-container-id-7 div.sk-serial::before {content: \"\";position: absolute;border-left: 1px solid gray;box-sizing: border-box;top: 0;bottom: 0;left: 50%;z-index: 0;}#sk-container-id-7 div.sk-serial {display: flex;flex-direction: column;align-items: center;background-color: white;padding-right: 0.2em;padding-left: 0.2em;position: relative;}#sk-container-id-7 div.sk-item {position: relative;z-index: 1;}#sk-container-id-7 div.sk-parallel {display: flex;align-items: stretch;justify-content: center;background-color: white;position: relative;}#sk-container-id-7 div.sk-item::before, #sk-container-id-7 div.sk-parallel-item::before {content: \"\";position: absolute;border-left: 1px solid gray;box-sizing: border-box;top: 0;bottom: 0;left: 50%;z-index: -1;}#sk-container-id-7 div.sk-parallel-item {display: flex;flex-direction: column;z-index: 1;position: relative;background-color: white;}#sk-container-id-7 div.sk-parallel-item:first-child::after {align-self: flex-end;width: 50%;}#sk-container-id-7 div.sk-parallel-item:last-child::after {align-self: flex-start;width: 50%;}#sk-container-id-7 div.sk-parallel-item:only-child::after {width: 0;}#sk-container-id-7 div.sk-dashed-wrapped {border: 1px dashed gray;margin: 0 0.4em 0.5em 0.4em;box-sizing: border-box;padding-bottom: 0.4em;background-color: white;}#sk-container-id-7 div.sk-label label {font-family: monospace;font-weight: bold;display: inline-block;line-height: 1.2em;}#sk-container-id-7 div.sk-label-container {text-align: center;}#sk-container-id-7 div.sk-container {/* jupyter's `normalize.less` sets `[hidden] { display: none; }` but bootstrap.min.css set `[hidden] { display: none !important; }` so we also need the `!important` here to be able to override the default hidden behavior on the sphinx rendered scikit-learn.org. See: https://github.com/scikit-learn/scikit-learn/issues/21755 */display: inline-block !important;position: relative;}#sk-container-id-7 div.sk-text-repr-fallback {display: none;}</style><div id=\"sk-container-id-7\" class=\"sk-top-container\"><div class=\"sk-text-repr-fallback\"><pre>RandomForestRegressor(random_state=42)</pre><b>In a Jupyter environment, please rerun this cell to show the HTML representation or trust the notebook. <br />On GitHub, the HTML representation is unable to render, please try loading this page with nbviewer.org.</b></div><div class=\"sk-container\" hidden><div class=\"sk-item\"><div class=\"sk-estimator sk-toggleable\"><input class=\"sk-toggleable__control sk-hidden--visually\" id=\"sk-estimator-id-7\" type=\"checkbox\" checked><label for=\"sk-estimator-id-7\" class=\"sk-toggleable__label sk-toggleable__label-arrow\">RandomForestRegressor</label><div class=\"sk-toggleable__content\"><pre>RandomForestRegressor(random_state=42)</pre></div></div></div></div></div>"
      ],
      "text/plain": [
       "RandomForestRegressor(random_state=42)"
      ]
     },
     "execution_count": 363,
     "metadata": {},
     "output_type": "execute_result"
    }
   ],
   "source": [
    "from sklearn.ensemble import RandomForestRegressor\n",
    "\n",
    "# Creating the Random Forest model\n",
    "rf_model = RandomForestRegressor(n_estimators=100, random_state=42)\n",
    "\n",
    "# Training the model\n",
    "rf_model.fit(X_train, y_train)\n"
   ]
  },
  {
   "cell_type": "code",
   "execution_count": 356,
   "id": "1941225b-fedc-4860-97a9-d1defeabe3fd",
   "metadata": {},
   "outputs": [
    {
     "name": "stdout",
     "output_type": "stream",
     "text": [
      "Random Forest - Mean Squared Error: 4588324.026008333\n",
      "Random Forest - R-squared: 0.9461955998603775\n"
     ]
    }
   ],
   "source": [
    "from sklearn.metrics import mean_squared_error, r2_score\n",
    "\n",
    "# Making predictions\n",
    "predictions = rf_model.predict(X_test)\n",
    "\n",
    "# Evaluating the model\n",
    "mse = mean_squared_error(y_test, predictions)\n",
    "r2 = r2_score(y_test, predictions)\n",
    "\n",
    "print(f\"Random Forest - Mean Squared Error: {mse}\")\n",
    "print(f\"Random Forest - R-squared: {r2}\")\n"
   ]
  },
  {
   "cell_type": "code",
   "execution_count": 364,
   "id": "202f2604-30a1-424e-bbe9-06e10b279c57",
   "metadata": {},
   "outputs": [
    {
     "data": {
      "image/png": "[encoded data removed]",
      "text/plain": [
       "<Figure size 640x480 with 1 Axes>"
      ]
     },
     "metadata": {},
     "output_type": "display_data"
    }
   ],
   "source": [
    "# Feature importance\n",
    "feature_importance = rf_model.feature_importances_\n",
    "sorted_idx = feature_importance.argsort()\n",
    "\n",
    "plt.barh(features, feature_importance[sorted_idx])\n",
    "plt.xlabel(\"Random Forest Feature Importance\")\n",
    "plt.show()\n"
   ]
  },
  {
   "cell_type": "code",
   "execution_count": 358,
   "id": "1fe685f9-0830-4b44-abfd-18c438b09612",
   "metadata": {},
   "outputs": [
    {
     "name": "stdout",
     "output_type": "stream",
     "text": [
      "Brazil:\n",
      "   Historical LTV: 0.04\n",
      "   Predicted LTV: 0.04\n",
      "   Growth Rate (%): 7.41\n",
      "\n",
      "\n",
      "India:\n",
      "   Historical LTV: 0.00\n",
      "   Predicted LTV: 0.01\n",
      "   Growth Rate (%): 355.07\n",
      "\n",
      "\n",
      "Egypt:\n",
      "   Historical LTV: 0.01\n",
      "   Predicted LTV: 0.02\n",
      "   Growth Rate (%): 189.31\n",
      "\n",
      "\n",
      "Thailand:\n",
      "   Historical LTV: 0.03\n",
      "   Predicted LTV: 0.03\n",
      "   Growth Rate (%): 12.80\n",
      "\n",
      "\n",
      "Turkey:\n",
      "   Historical LTV: 0.02\n",
      "   Predicted LTV: 0.03\n",
      "   Growth Rate (%): 45.24\n",
      "\n",
      "\n",
      "Indonesia:\n",
      "   Historical LTV: 0.01\n",
      "   Predicted LTV: 0.09\n",
      "   Growth Rate (%): 628.29\n",
      "\n",
      "\n",
      "Malaysia:\n",
      "   Historical LTV: 0.09\n",
      "   Predicted LTV: 0.09\n",
      "   Growth Rate (%): 0.80\n",
      "\n",
      "\n",
      "Vietnam:\n",
      "   Historical LTV: 0.02\n",
      "   Predicted LTV: 0.03\n",
      "   Growth Rate (%): 24.75\n",
      "\n",
      "\n",
      "United States:\n",
      "   Historical LTV: 1.22\n",
      "   Predicted LTV: 1.09\n",
      "   Growth Rate (%): -10.52\n",
      "\n",
      "\n",
      "Mexico:\n",
      "   Historical LTV: 0.10\n",
      "   Predicted LTV: 0.11\n",
      "   Growth Rate (%): 10.14\n",
      "\n",
      "\n",
      "United Kingdom:\n",
      "   Historical LTV: 7.90\n",
      "   Predicted LTV: 7.40\n",
      "   Growth Rate (%): -6.39\n",
      "\n",
      "\n",
      "Colombia:\n",
      "   Historical LTV: 0.02\n",
      "   Predicted LTV: 0.07\n",
      "   Growth Rate (%): 297.13\n",
      "\n",
      "\n",
      "Portugal:\n",
      "   Historical LTV: 0.19\n",
      "   Predicted LTV: 0.28\n",
      "   Growth Rate (%): 46.84\n",
      "\n",
      "\n",
      "France:\n",
      "   Historical LTV: 0.60\n",
      "   Predicted LTV: 0.54\n",
      "   Growth Rate (%): -10.79\n",
      "\n",
      "\n",
      "Canada:\n",
      "   Historical LTV: 5.19\n",
      "   Predicted LTV: 5.35\n",
      "   Growth Rate (%): 3.01\n",
      "\n",
      "\n",
      "Germany:\n",
      "   Historical LTV: 0.29\n",
      "   Predicted LTV: 0.28\n",
      "   Growth Rate (%): -2.36\n",
      "\n",
      "\n",
      "Spain:\n",
      "   Historical LTV: 0.33\n",
      "   Predicted LTV: 0.53\n",
      "   Growth Rate (%): 58.51\n",
      "\n",
      "\n"
     ]
    }
   ],
   "source": [
    "countries = data['Country/Region Name'].unique()\n",
    "\n",
    "# Prepare a dictionary to store results\n",
    "ltv_results = {}\n",
    "\n",
    "for country in countries:\n",
    "    country_data = data[data['Country/Region Name'] == country]\n",
    "\n",
    "    # Historical LTV\n",
    "    total_revenue_historic = country_data['Store Revenue'].sum()\n",
    "    total_users_historic = country_data['Active Users'].sum()\n",
    "    historical_ltv = total_revenue_historic / total_users_historic if total_users_historic else 0\n",
    "\n",
    "    # Predicted LTV\n",
    "    country_features = country_data[['Downloads', 'Active Users', 'Avg Time / User']]\n",
    "    predicted_revenue = rf_model.predict(country_features).sum()\n",
    "    predicted_ltv = predicted_revenue / total_users_historic if total_users_historic else 0\n",
    "\n",
    "    # Growth Rate Calculation\n",
    "    growth_rate = ((predicted_ltv - historical_ltv) / historical_ltv) * 100 if historical_ltv else 0\n",
    "\n",
    "    # Storing results\n",
    "    ltv_results[country] = {\n",
    "        'Historical LTV': historical_ltv,\n",
    "        'Predicted LTV': predicted_ltv,\n",
    "        'Growth Rate (%)': growth_rate\n",
    "    }\n",
    "\n",
    "# Displaying the results\n",
    "for country, metrics in ltv_results.items():\n",
    "    print(f\"{country}:\")\n",
    "    for key, value in metrics.items():\n",
    "        print(f\"   {key}: {value:.2f}\")\n",
    "    print(\"\\n\")\n"
   ]
  },
  {
   "cell_type": "code",
   "execution_count": 359,
   "id": "6e733754-5486-46ec-aa03-a0a17820de5d",
   "metadata": {},
   "outputs": [
    {
     "name": "stdout",
     "output_type": "stream",
     "text": [
      "Gradient Boosting - Mean Squared Error: 1140039.171808277\n",
      "Gradient Boosting - R-squared: 0.9866314751471075\n"
     ]
    }
   ],
   "source": [
    "from sklearn.ensemble import GradientBoostingRegressor\n",
    "\n",
    "# Prepare features and target variable\n",
    "X = data[['Downloads', 'Active Users', 'Avg Time / User']]  # Adjust features as needed\n",
    "y = data['Store Revenue']\n",
    "\n",
    "# Splitting the data\n",
    "X_train, X_test, y_train, y_test = train_test_split(X, y, test_size=0.2, random_state=42)\n",
    "\n",
    "# Gradient Boosting model\n",
    "gb_model = GradientBoostingRegressor(n_estimators=2000, random_state=42)\n",
    "gb_model.fit(X_train, y_train)\n",
    "\n",
    "# Predict and evaluate\n",
    "predictions = gb_model.predict(X_test)\n",
    "mse = mean_squared_error(y_test, predictions)\n",
    "r2 = r2_score(y_test, predictions)\n",
    "\n",
    "print(\"Gradient Boosting - Mean Squared Error:\", mse)\n",
    "print(\"Gradient Boosting - R-squared:\", r2)\n"
   ]
  },
  {
   "cell_type": "code",
   "execution_count": 360,
   "id": "7349b058-dfe5-484c-b282-24ec5ee09e28",
   "metadata": {},
   "outputs": [
    {
     "data": {
      "image/png": "[encoded data removed]",
      "text/plain": [
       "<Figure size 640x480 with 1 Axes>"
      ]
     },
     "metadata": {},
     "output_type": "display_data"
    }
   ],
   "source": [
    "# Plotting feature importance\n",
    "feature_importance = gb_model.feature_importances_\n",
    "plt.barh(X.columns, feature_importance)\n",
    "plt.xlabel('Importance')\n",
    "plt.title('Feature Importance for Revenue Prediction')\n",
    "plt.show()\n"
   ]
  },
  {
   "cell_type": "code",
   "execution_count": 361,
   "id": "a6354c87-4727-471a-b3f6-30fb4f24d238",
   "metadata": {},
   "outputs": [
    {
     "name": "stdout",
     "output_type": "stream",
     "text": [
      "Predicted total future revenue for Brazil: 38908.0\n",
      "Predicted total future revenue for India: 2014.0\n",
      "Predicted total future revenue for Egypt: 1126.0\n",
      "Predicted total future revenue for Thailand: 4558.0\n",
      "Predicted total future revenue for Turkey: 9078.999999999998\n",
      "Predicted total future revenue for Indonesia: 7334.999999999999\n",
      "Predicted total future revenue for Malaysia: 12931.999999999998\n",
      "Predicted total future revenue for Vietnam: 3305.0\n",
      "Predicted total future revenue for United States: 761032.0000000001\n",
      "Predicted total future revenue for Mexico: 7996.0\n",
      "Predicted total future revenue for United Kingdom: 102857.99999999999\n",
      "Predicted total future revenue for Colombia: 900.0000000000001\n",
      "Predicted total future revenue for Portugal: 5550.0\n",
      "Predicted total future revenue for France: 23243.999999999996\n",
      "Predicted total future revenue for Canada: 32371.999999999996\n",
      "Predicted total future revenue for Germany: 63871.99999999999\n",
      "Predicted total future revenue for Spain: 6310.0\n"
     ]
    }
   ],
   "source": [
    "for country in data['Country/Region Name'].unique():\n",
    "    country_data = data[data['Country/Region Name'] == country]\n",
    "    X_country = country_data[['Downloads', 'Active Users', 'Avg Time / User']]\n",
    "    y_country = country_data['Store Revenue']\n",
    "\n",
    "    # Training a model for each country\n",
    "    model = GradientBoostingRegressor(n_estimators=100, random_state=42)\n",
    "    model.fit(X_country, y_country)\n",
    "\n",
    "    future_revenue = model.predict(X_country).sum()\n",
    "    print(f\"Predicted total future revenue for {country}: {future_revenue}\")\n"
   ]
  },
  {
   "cell_type": "code",
   "execution_count": null,
   "id": "fcb8f6c7-7b46-4c13-99cb-0628c4130bb0",
   "metadata": {},
   "outputs": [],
   "source": []
  }
 ],
 "metadata": {
  "kernelspec": {
   "display_name": "Python 3 (ipykernel)",
   "language": "python",
   "name": "python3"
  },
  "language_info": {
   "codemirror_mode": {
    "name": "ipython",
    "version": 3
   },
   "file_extension": ".py",
   "mimetype": "text/x-python",
   "name": "python",
   "nbconvert_exporter": "python",
   "pygments_lexer": "ipython3",
   "version": "3.10.9"
  }
 },
 "nbformat": 4,
 "nbformat_minor": 5
}
